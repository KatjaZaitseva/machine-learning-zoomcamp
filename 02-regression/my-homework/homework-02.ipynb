{
 "cells": [
  {
   "cell_type": "code",
   "execution_count": 1,
   "id": "5e9a07cb-0c6b-4a65-8ebb-399fced7ddca",
   "metadata": {},
   "outputs": [],
   "source": [
    "import pandas as pd\n",
    "import numpy as np\n",
    "import seaborn as sns\n",
    "import matplotlib.pyplot as plt"
   ]
  },
  {
   "cell_type": "markdown",
   "id": "69ba1cc3-5e2e-4016-9ae7-5d495001c0eb",
   "metadata": {},
   "source": [
    "# Functions"
   ]
  },
  {
   "cell_type": "code",
   "execution_count": 13,
   "id": "40f897b3-b967-48f2-a9b2-4e5b1cc00942",
   "metadata": {},
   "outputs": [],
   "source": [
    "def plot_one_distribution(df, x_col):\n",
    "    \"\"\"\n",
    "\n",
    "    Parameters:\n",
    "    df (pandas.DataFrame): The DataFrame containing the data to be plotted.\n",
    "    x_col (str): The name of the column containing the first continuous variable.\n",
    "\n",
    "    Returns:\n",
    "    None\n",
    "    \"\"\"\n",
    "    plt.figure(figsize=(8, 6))\n",
    "    sns.histplot(data=df, x=x_col, label=x_col)\n",
    "    \n",
    "    #add lines \n",
    "    x_avg = df[x_col].mean()\n",
    "    x_median = df[x_col].median()\n",
    "    plt.axvline(x_avg, linestyle='--', label=f'{x_col} mean')\n",
    "    plt.axvline(x_median, linestyle='-', label=f'{x_col} median')\n",
    "    \n",
    "    #add values\n",
    "    plt.text(x_avg, 100, f'Avg. = {x_avg:.2f}', va='top', ha='center')\n",
    "    plt.text(x_median, 300, f'Median = {x_median:.2f}', va='top', ha='center')\n",
    "    \n",
    "    plt.title(\"Distribution of {}\".format(x_col))\n",
    "    plt.legend()\n",
    "    plt.show()"
   ]
  },
  {
   "cell_type": "markdown",
   "id": "7db9661c-502c-44c0-8bc2-435e319bcd52",
   "metadata": {},
   "source": [
    "# Reading data"
   ]
  },
  {
   "cell_type": "code",
   "execution_count": 3,
   "id": "18e50244-9269-4477-b611-f1e1f09888cc",
   "metadata": {},
   "outputs": [],
   "source": [
    "data = 'https://raw.githubusercontent.com/alexeygrigorev/datasets/master/housing.csv'"
   ]
  },
  {
   "cell_type": "code",
   "execution_count": 4,
   "id": "ac755d1d-0191-4818-8526-630c10223116",
   "metadata": {
    "scrolled": true
   },
   "outputs": [
    {
     "name": "stdout",
     "output_type": "stream",
     "text": [
      "--2023-09-23 10:28:33--  https://raw.githubusercontent.com/alexeygrigorev/datasets/master/housing.csv\n",
      "Resolving raw.githubusercontent.com (raw.githubusercontent.com)... 185.199.110.133, 185.199.111.133, 185.199.108.133, ...\n",
      "Connecting to raw.githubusercontent.com (raw.githubusercontent.com)|185.199.110.133|:443... connected.\n",
      "HTTP request sent, awaiting response... 200 OK\n",
      "Length: 1423529 (1,4M) [text/plain]\n",
      "Saving to: ‘housing.csv.1’\n",
      "\n",
      "housing.csv.1       100%[===================>]   1,36M  2,12MB/s    in 0,6s    \n",
      "\n",
      "2023-09-23 10:28:34 (2,12 MB/s) - ‘housing.csv.1’ saved [1423529/1423529]\n",
      "\n"
     ]
    }
   ],
   "source": [
    "!wget $data"
   ]
  },
  {
   "cell_type": "code",
   "execution_count": 5,
   "id": "dccde80c-b062-4ef4-9db8-87c4a7005afe",
   "metadata": {},
   "outputs": [
    {
     "data": {
      "text/html": [
       "<div>\n",
       "<style scoped>\n",
       "    .dataframe tbody tr th:only-of-type {\n",
       "        vertical-align: middle;\n",
       "    }\n",
       "\n",
       "    .dataframe tbody tr th {\n",
       "        vertical-align: top;\n",
       "    }\n",
       "\n",
       "    .dataframe thead th {\n",
       "        text-align: right;\n",
       "    }\n",
       "</style>\n",
       "<table border=\"1\" class=\"dataframe\">\n",
       "  <thead>\n",
       "    <tr style=\"text-align: right;\">\n",
       "      <th></th>\n",
       "      <th>longitude</th>\n",
       "      <th>latitude</th>\n",
       "      <th>housing_median_age</th>\n",
       "      <th>total_rooms</th>\n",
       "      <th>total_bedrooms</th>\n",
       "      <th>population</th>\n",
       "      <th>households</th>\n",
       "      <th>median_income</th>\n",
       "      <th>median_house_value</th>\n",
       "      <th>ocean_proximity</th>\n",
       "    </tr>\n",
       "  </thead>\n",
       "  <tbody>\n",
       "    <tr>\n",
       "      <th>0</th>\n",
       "      <td>-122.23</td>\n",
       "      <td>37.88</td>\n",
       "      <td>41.0</td>\n",
       "      <td>880.0</td>\n",
       "      <td>129.0</td>\n",
       "      <td>322.0</td>\n",
       "      <td>126.0</td>\n",
       "      <td>8.3252</td>\n",
       "      <td>452600.0</td>\n",
       "      <td>NEAR BAY</td>\n",
       "    </tr>\n",
       "    <tr>\n",
       "      <th>1</th>\n",
       "      <td>-122.22</td>\n",
       "      <td>37.86</td>\n",
       "      <td>21.0</td>\n",
       "      <td>7099.0</td>\n",
       "      <td>1106.0</td>\n",
       "      <td>2401.0</td>\n",
       "      <td>1138.0</td>\n",
       "      <td>8.3014</td>\n",
       "      <td>358500.0</td>\n",
       "      <td>NEAR BAY</td>\n",
       "    </tr>\n",
       "    <tr>\n",
       "      <th>2</th>\n",
       "      <td>-122.24</td>\n",
       "      <td>37.85</td>\n",
       "      <td>52.0</td>\n",
       "      <td>1467.0</td>\n",
       "      <td>190.0</td>\n",
       "      <td>496.0</td>\n",
       "      <td>177.0</td>\n",
       "      <td>7.2574</td>\n",
       "      <td>352100.0</td>\n",
       "      <td>NEAR BAY</td>\n",
       "    </tr>\n",
       "    <tr>\n",
       "      <th>3</th>\n",
       "      <td>-122.25</td>\n",
       "      <td>37.85</td>\n",
       "      <td>52.0</td>\n",
       "      <td>1274.0</td>\n",
       "      <td>235.0</td>\n",
       "      <td>558.0</td>\n",
       "      <td>219.0</td>\n",
       "      <td>5.6431</td>\n",
       "      <td>341300.0</td>\n",
       "      <td>NEAR BAY</td>\n",
       "    </tr>\n",
       "    <tr>\n",
       "      <th>4</th>\n",
       "      <td>-122.25</td>\n",
       "      <td>37.85</td>\n",
       "      <td>52.0</td>\n",
       "      <td>1627.0</td>\n",
       "      <td>280.0</td>\n",
       "      <td>565.0</td>\n",
       "      <td>259.0</td>\n",
       "      <td>3.8462</td>\n",
       "      <td>342200.0</td>\n",
       "      <td>NEAR BAY</td>\n",
       "    </tr>\n",
       "  </tbody>\n",
       "</table>\n",
       "</div>"
      ],
      "text/plain": [
       "   longitude  latitude  housing_median_age  total_rooms  total_bedrooms  \\\n",
       "0    -122.23     37.88                41.0        880.0           129.0   \n",
       "1    -122.22     37.86                21.0       7099.0          1106.0   \n",
       "2    -122.24     37.85                52.0       1467.0           190.0   \n",
       "3    -122.25     37.85                52.0       1274.0           235.0   \n",
       "4    -122.25     37.85                52.0       1627.0           280.0   \n",
       "\n",
       "   population  households  median_income  median_house_value ocean_proximity  \n",
       "0       322.0       126.0         8.3252            452600.0        NEAR BAY  \n",
       "1      2401.0      1138.0         8.3014            358500.0        NEAR BAY  \n",
       "2       496.0       177.0         7.2574            352100.0        NEAR BAY  \n",
       "3       558.0       219.0         5.6431            341300.0        NEAR BAY  \n",
       "4       565.0       259.0         3.8462            342200.0        NEAR BAY  "
      ]
     },
     "execution_count": 5,
     "metadata": {},
     "output_type": "execute_result"
    }
   ],
   "source": [
    "df = pd.read_csv('housing.csv')\n",
    "df.head() "
   ]
  },
  {
   "cell_type": "markdown",
   "id": "6718185d-e261-4c62-923b-57aac611c361",
   "metadata": {},
   "source": [
    "# EDA"
   ]
  },
  {
   "cell_type": "code",
   "execution_count": 14,
   "id": "26715e61-dac7-4a9d-b0af-9ad0438b40b8",
   "metadata": {},
   "outputs": [
    {
     "data": {
      "image/png": "[encoded data removed]",
      "text/plain": [
       "<Figure size 800x600 with 1 Axes>"
      ]
     },
     "metadata": {},
     "output_type": "display_data"
    }
   ],
   "source": [
    "plot_one_distribution(df, 'median_house_value')"
   ]
  },
  {
   "cell_type": "markdown",
   "id": "e2aa4d68-719a-4bf8-98c3-cc60a7318042",
   "metadata": {},
   "source": [
    "The distribution has a long tail and a peak in the end of the tail which means that the prices were capped at 500000, and we don't know the 'real' prices for some houses"
   ]
  },
  {
   "cell_type": "code",
   "execution_count": 15,
   "id": "09e19005-f788-4862-b738-b687d9d832db",
   "metadata": {},
   "outputs": [
    {
     "data": {
      "image/png": "[encoded data removed]",
      "text/plain": [
       "<Figure size 800x600 with 1 Axes>"
      ]
     },
     "metadata": {},
     "output_type": "display_data"
    }
   ],
   "source": [
    "df['log_median_house_value'] = np.log1p(df['median_house_value'])\n",
    "plot_one_distribution(df, 'log_median_house_value')"
   ]
  },
  {
   "cell_type": "markdown",
   "id": "c0e210f7-126a-4ed1-a5ea-1bdae321e9d4",
   "metadata": {},
   "source": [
    "# Prepare and split the dataset"
   ]
  },
  {
   "cell_type": "markdown",
   "id": "b3c04596-e96d-4d25-9f24-d335eef567a1",
   "metadata": {},
   "source": [
    "## Filter df"
   ]
  },
  {
   "cell_type": "code",
   "execution_count": 16,
   "id": "4949c7b5-1c6d-4298-b6de-dce7c97fe181",
   "metadata": {},
   "outputs": [
    {
     "data": {
      "text/plain": [
       "ocean_proximity\n",
       "<1H OCEAN     9136\n",
       "INLAND        6551\n",
       "NEAR OCEAN    2658\n",
       "NEAR BAY      2290\n",
       "ISLAND           5\n",
       "Name: count, dtype: int64"
      ]
     },
     "execution_count": 16,
     "metadata": {},
     "output_type": "execute_result"
    }
   ],
   "source": [
    "df['ocean_proximity'].value_counts(dropna=False)"
   ]
  },
  {
   "cell_type": "code",
   "execution_count": 17,
   "id": "4aa19ec4-c8a6-45d9-b7e9-8806fac68ef1",
   "metadata": {},
   "outputs": [
    {
     "data": {
      "text/html": [
       "<div>\n",
       "<style scoped>\n",
       "    .dataframe tbody tr th:only-of-type {\n",
       "        vertical-align: middle;\n",
       "    }\n",
       "\n",
       "    .dataframe tbody tr th {\n",
       "        vertical-align: top;\n",
       "    }\n",
       "\n",
       "    .dataframe thead th {\n",
       "        text-align: right;\n",
       "    }\n",
       "</style>\n",
       "<table border=\"1\" class=\"dataframe\">\n",
       "  <thead>\n",
       "    <tr style=\"text-align: right;\">\n",
       "      <th></th>\n",
       "      <th>latitude</th>\n",
       "      <th>longitude</th>\n",
       "      <th>housing_median_age</th>\n",
       "      <th>total_rooms</th>\n",
       "      <th>total_bedrooms</th>\n",
       "      <th>population</th>\n",
       "      <th>households</th>\n",
       "      <th>median_income</th>\n",
       "      <th>median_house_value</th>\n",
       "    </tr>\n",
       "  </thead>\n",
       "  <tbody>\n",
       "    <tr>\n",
       "      <th>701</th>\n",
       "      <td>37.64</td>\n",
       "      <td>-121.97</td>\n",
       "      <td>32.0</td>\n",
       "      <td>1283.0</td>\n",
       "      <td>194.0</td>\n",
       "      <td>485.0</td>\n",
       "      <td>171.0</td>\n",
       "      <td>6.0574</td>\n",
       "      <td>431000.0</td>\n",
       "    </tr>\n",
       "    <tr>\n",
       "      <th>830</th>\n",
       "      <td>37.61</td>\n",
       "      <td>-121.99</td>\n",
       "      <td>9.0</td>\n",
       "      <td>3666.0</td>\n",
       "      <td>711.0</td>\n",
       "      <td>2341.0</td>\n",
       "      <td>703.0</td>\n",
       "      <td>4.6458</td>\n",
       "      <td>217000.0</td>\n",
       "    </tr>\n",
       "    <tr>\n",
       "      <th>859</th>\n",
       "      <td>37.57</td>\n",
       "      <td>-121.97</td>\n",
       "      <td>21.0</td>\n",
       "      <td>4342.0</td>\n",
       "      <td>783.0</td>\n",
       "      <td>2172.0</td>\n",
       "      <td>789.0</td>\n",
       "      <td>4.6146</td>\n",
       "      <td>247600.0</td>\n",
       "    </tr>\n",
       "  </tbody>\n",
       "</table>\n",
       "</div>"
      ],
      "text/plain": [
       "     latitude  longitude  housing_median_age  total_rooms  total_bedrooms  \\\n",
       "701     37.64    -121.97                32.0       1283.0           194.0   \n",
       "830     37.61    -121.99                 9.0       3666.0           711.0   \n",
       "859     37.57    -121.97                21.0       4342.0           783.0   \n",
       "\n",
       "     population  households  median_income  median_house_value  \n",
       "701       485.0       171.0         6.0574            431000.0  \n",
       "830      2341.0       703.0         4.6458            217000.0  \n",
       "859      2172.0       789.0         4.6146            247600.0  "
      ]
     },
     "execution_count": 17,
     "metadata": {},
     "output_type": "execute_result"
    }
   ],
   "source": [
    "mask_filter = df['ocean_proximity'].isin(['<1H OCEAN','INLAND'])\n",
    "ocean_inland = df[mask_filter][['latitude', 'longitude', 'housing_median_age', 'total_rooms', 'total_bedrooms',\n",
    "                               'population', 'households', 'median_income', 'median_house_value']].copy()\n",
    "ocean_inland.head(3)"
   ]
  },
  {
   "cell_type": "code",
   "execution_count": 18,
   "id": "40222a94-cafa-42a7-b7bf-2a35fc269e20",
   "metadata": {},
   "outputs": [
    {
     "data": {
      "text/plain": [
       "latitude                0\n",
       "longitude               0\n",
       "housing_median_age      0\n",
       "total_rooms             0\n",
       "total_bedrooms        157\n",
       "population              0\n",
       "households              0\n",
       "median_income           0\n",
       "median_house_value      0\n",
       "dtype: int64"
      ]
     },
     "execution_count": 18,
     "metadata": {},
     "output_type": "execute_result"
    }
   ],
   "source": [
    "ocean_inland.isna().sum()"
   ]
  },
  {
   "cell_type": "markdown",
   "id": "987cea34-6992-4383-8280-6fa0cc0d0fb5",
   "metadata": {},
   "source": [
    "Q1: total_bedrooms has missing values"
   ]
  },
  {
   "cell_type": "code",
   "execution_count": 19,
   "id": "e351357d-2253-40b8-a72c-86c1e0481e82",
   "metadata": {},
   "outputs": [
    {
     "data": {
      "image/png": "[encoded data removed]",
      "text/plain": [
       "<Figure size 800x600 with 1 Axes>"
      ]
     },
     "metadata": {},
     "output_type": "display_data"
    }
   ],
   "source": [
    "plot_one_distribution(ocean_inland, 'population')"
   ]
  },
  {
   "cell_type": "markdown",
   "id": "8eab07f5-7cf4-46c3-a836-83ec69918f54",
   "metadata": {},
   "source": [
    "Q2: The median value of population = 1195"
   ]
  },
  {
   "cell_type": "markdown",
   "id": "25bd7ca6-c6a1-4c5f-8621-cfb9fc522e17",
   "metadata": {},
   "source": [
    "## DF split"
   ]
  },
  {
   "cell_type": "code",
   "execution_count": 161,
   "id": "b0967eea-7574-4a16-acb4-7057bf738802",
   "metadata": {},
   "outputs": [],
   "source": [
    "#get indexes\n",
    "n = len(ocean_inland)\n",
    "idx = np.arange(n)\n",
    "#shuffle them\n",
    "np.random.seed(42)\n",
    "np.random.shuffle(idx)"
   ]
  },
  {
   "cell_type": "code",
   "execution_count": 162,
   "id": "7ea188dd-b1eb-4d4c-9265-711e152fe04a",
   "metadata": {},
   "outputs": [],
   "source": [
    "#Split your data in train/val/test sets, with 60%/20%/20% distribution\n",
    "n_train = int(n * 0.6)\n",
    "n_val = int(n * 0.2)\n",
    "n_test = n - n_val - n_train"
   ]
  },
  {
   "cell_type": "code",
   "execution_count": 163,
   "id": "8db24089-2de5-4939-94b5-fa8a69c6f611",
   "metadata": {},
   "outputs": [
    {
     "data": {
      "text/plain": [
       "array([15183,  4469,  9316, ...,  5390,   860,  7270])"
      ]
     },
     "execution_count": 163,
     "metadata": {},
     "output_type": "execute_result"
    }
   ],
   "source": [
    "idx"
   ]
  },
  {
   "cell_type": "code",
   "execution_count": 165,
   "id": "835589bd-6437-4674-8663-2e054f8c3a7f",
   "metadata": {},
   "outputs": [],
   "source": [
    "df_train = ocean_inland.iloc[idx[:n_train],:]\n",
    "df_val = ocean_inland.iloc[idx[n_train:n_train+n_val]]\n",
    "df_test = ocean_inland.iloc[idx[n_train+n_val:]]"
   ]
  },
  {
   "cell_type": "code",
   "execution_count": 166,
   "id": "96b84220-cad0-49ae-a1df-5d50542e582e",
   "metadata": {
    "scrolled": true
   },
   "outputs": [
    {
     "data": {
      "text/plain": [
       "(9412, 3137, 3138, True)"
      ]
     },
     "execution_count": 166,
     "metadata": {},
     "output_type": "execute_result"
    }
   ],
   "source": [
    "len(df_train), len(df_val), len(df_test), len(df_train)+len(df_val)+len(df_test) == n"
   ]
  },
  {
   "cell_type": "code",
   "execution_count": 167,
   "id": "ca136af5-284e-4484-9aea-a7c8c3e26f77",
   "metadata": {},
   "outputs": [],
   "source": [
    "df_train = df_train.reset_index(drop=True)\n",
    "df_val = df_val.reset_index(drop=True)\n",
    "df_test = df_test.reset_index(drop=True)"
   ]
  },
  {
   "cell_type": "code",
   "execution_count": 168,
   "id": "65dc48f7-d707-4a7a-abe8-f599ff22c1da",
   "metadata": {},
   "outputs": [
    {
     "data": {
      "text/html": [
       "<div>\n",
       "<style scoped>\n",
       "    .dataframe tbody tr th:only-of-type {\n",
       "        vertical-align: middle;\n",
       "    }\n",
       "\n",
       "    .dataframe tbody tr th {\n",
       "        vertical-align: top;\n",
       "    }\n",
       "\n",
       "    .dataframe thead th {\n",
       "        text-align: right;\n",
       "    }\n",
       "</style>\n",
       "<table border=\"1\" class=\"dataframe\">\n",
       "  <thead>\n",
       "    <tr style=\"text-align: right;\">\n",
       "      <th></th>\n",
       "      <th>latitude</th>\n",
       "      <th>longitude</th>\n",
       "      <th>housing_median_age</th>\n",
       "      <th>total_rooms</th>\n",
       "      <th>total_bedrooms</th>\n",
       "      <th>population</th>\n",
       "      <th>households</th>\n",
       "      <th>median_income</th>\n",
       "      <th>median_house_value</th>\n",
       "    </tr>\n",
       "  </thead>\n",
       "  <tbody>\n",
       "    <tr>\n",
       "      <th>0</th>\n",
       "      <td>36.23</td>\n",
       "      <td>-119.14</td>\n",
       "      <td>22.0</td>\n",
       "      <td>2935.0</td>\n",
       "      <td>523.0</td>\n",
       "      <td>1927.0</td>\n",
       "      <td>530.0</td>\n",
       "      <td>2.5875</td>\n",
       "      <td>70400.0</td>\n",
       "    </tr>\n",
       "    <tr>\n",
       "      <th>1</th>\n",
       "      <td>34.12</td>\n",
       "      <td>-117.79</td>\n",
       "      <td>16.0</td>\n",
       "      <td>2426.0</td>\n",
       "      <td>426.0</td>\n",
       "      <td>1319.0</td>\n",
       "      <td>446.0</td>\n",
       "      <td>4.8125</td>\n",
       "      <td>224500.0</td>\n",
       "    </tr>\n",
       "    <tr>\n",
       "      <th>2</th>\n",
       "      <td>33.68</td>\n",
       "      <td>-117.97</td>\n",
       "      <td>26.0</td>\n",
       "      <td>3653.0</td>\n",
       "      <td>568.0</td>\n",
       "      <td>1930.0</td>\n",
       "      <td>585.0</td>\n",
       "      <td>5.7301</td>\n",
       "      <td>260900.0</td>\n",
       "    </tr>\n",
       "    <tr>\n",
       "      <th>3</th>\n",
       "      <td>34.10</td>\n",
       "      <td>-118.03</td>\n",
       "      <td>32.0</td>\n",
       "      <td>2668.0</td>\n",
       "      <td>609.0</td>\n",
       "      <td>1512.0</td>\n",
       "      <td>541.0</td>\n",
       "      <td>2.9422</td>\n",
       "      <td>233100.0</td>\n",
       "    </tr>\n",
       "    <tr>\n",
       "      <th>4</th>\n",
       "      <td>37.34</td>\n",
       "      <td>-121.87</td>\n",
       "      <td>39.0</td>\n",
       "      <td>2479.0</td>\n",
       "      <td>541.0</td>\n",
       "      <td>1990.0</td>\n",
       "      <td>506.0</td>\n",
       "      <td>2.4306</td>\n",
       "      <td>289100.0</td>\n",
       "    </tr>\n",
       "  </tbody>\n",
       "</table>\n",
       "</div>"
      ],
      "text/plain": [
       "   latitude  longitude  housing_median_age  total_rooms  total_bedrooms  \\\n",
       "0     36.23    -119.14                22.0       2935.0           523.0   \n",
       "1     34.12    -117.79                16.0       2426.0           426.0   \n",
       "2     33.68    -117.97                26.0       3653.0           568.0   \n",
       "3     34.10    -118.03                32.0       2668.0           609.0   \n",
       "4     37.34    -121.87                39.0       2479.0           541.0   \n",
       "\n",
       "   population  households  median_income  median_house_value  \n",
       "0      1927.0       530.0         2.5875             70400.0  \n",
       "1      1319.0       446.0         4.8125            224500.0  \n",
       "2      1930.0       585.0         5.7301            260900.0  \n",
       "3      1512.0       541.0         2.9422            233100.0  \n",
       "4      1990.0       506.0         2.4306            289100.0  "
      ]
     },
     "execution_count": 168,
     "metadata": {},
     "output_type": "execute_result"
    }
   ],
   "source": [
    "df_train.head()"
   ]
  },
  {
   "cell_type": "code",
   "execution_count": 169,
   "id": "64d0259f-a29d-4643-bcdb-244f40d7fcf5",
   "metadata": {},
   "outputs": [],
   "source": [
    "y_train = np.log1p(df_train.median_house_value.values)\n",
    "y_val = np.log1p(df_val.median_house_value.values)\n",
    "y_test = np.log1p(df_test.median_house_value.values)"
   ]
  },
  {
   "cell_type": "code",
   "execution_count": 170,
   "id": "c2e04eb2-5762-4ed7-840b-7ae9e4d1edcc",
   "metadata": {},
   "outputs": [
    {
     "data": {
      "text/plain": [
       "array([11.16196275, 12.32163544, 12.4718963 , ..., 10.61890979,\n",
       "       13.12236738, 12.11888489])"
      ]
     },
     "execution_count": 170,
     "metadata": {},
     "output_type": "execute_result"
    }
   ],
   "source": [
    "y_train"
   ]
  },
  {
   "cell_type": "code",
   "execution_count": 171,
   "id": "8dc0099c-b84b-40c0-b2b6-975ee569b607",
   "metadata": {},
   "outputs": [],
   "source": [
    "del df_train['median_house_value']\n",
    "del df_val['median_house_value']\n",
    "del df_test['median_house_value']"
   ]
  },
  {
   "cell_type": "markdown",
   "id": "b7033750-179f-478c-a66c-0a5fa28a7a34",
   "metadata": {},
   "source": [
    "# Training the model"
   ]
  },
  {
   "cell_type": "markdown",
   "id": "544c6f26-9a90-4e3e-ab65-210252bf501e",
   "metadata": {},
   "source": [
    "## Dealing with missing values"
   ]
  },
  {
   "cell_type": "code",
   "execution_count": 172,
   "id": "5dee6df8-79f7-4c01-90e7-c751b02a8b7c",
   "metadata": {},
   "outputs": [
    {
     "data": {
      "text/plain": [
       "latitude               0\n",
       "longitude              0\n",
       "housing_median_age     0\n",
       "total_rooms            0\n",
       "total_bedrooms        94\n",
       "population             0\n",
       "households             0\n",
       "median_income          0\n",
       "dtype: int64"
      ]
     },
     "execution_count": 172,
     "metadata": {},
     "output_type": "execute_result"
    }
   ],
   "source": [
    "df_train.isna().sum()"
   ]
  },
  {
   "cell_type": "code",
   "execution_count": 173,
   "id": "02cf4869-2f31-4c42-b475-4709b1acddbd",
   "metadata": {},
   "outputs": [],
   "source": [
    "mean_total_bedrooms = df_train['total_bedrooms'].mean()\n",
    "df_train['total_bedrooms_na_mean'] = df_train['total_bedrooms'].fillna(mean_total_bedrooms)\n",
    "df_train['total_bedrooms_na_0'] = df_train['total_bedrooms'].fillna(0)\n",
    "\n",
    "df_val['total_bedrooms_na_mean'] = df_val['total_bedrooms'].fillna(mean_total_bedrooms)\n",
    "df_val['total_bedrooms_na_0'] = df_val['total_bedrooms'].fillna(0)"
   ]
  },
  {
   "cell_type": "code",
   "execution_count": 174,
   "id": "52f99059-dcbb-4539-8792-3ea2ef29dcfb",
   "metadata": {},
   "outputs": [],
   "source": [
    "def train_linear_regression(X, y):\n",
    "    ones = np.ones(X.shape[0])\n",
    "    X = np.column_stack([ones, X])\n",
    "\n",
    "    XTX = X.T.dot(X)\n",
    "    XTX_inv = np.linalg.inv(XTX)\n",
    "    w_full = XTX_inv.dot(X.T).dot(y)\n",
    "    \n",
    "    return w_full[0], w_full[1:]"
   ]
  },
  {
   "cell_type": "code",
   "execution_count": 175,
   "id": "065596bb-116a-4e0a-a295-0ae226e48fd0",
   "metadata": {},
   "outputs": [],
   "source": [
    "def rmse(y, y_pred):\n",
    "    se = (y - y_pred) ** 2\n",
    "    mse = se.mean()\n",
    "    return np.sqrt(mse)"
   ]
  },
  {
   "cell_type": "markdown",
   "id": "5dd88fed-1704-4157-a919-c6c19b9108af",
   "metadata": {},
   "source": [
    "### Train with mean instead of NA"
   ]
  },
  {
   "cell_type": "code",
   "execution_count": 176,
   "id": "8aa83210-1809-4be0-ac13-cd64a973b045",
   "metadata": {},
   "outputs": [],
   "source": [
    "X_train = df_train.drop(['total_bedrooms', 'total_bedrooms_na_0'], axis=1)\n",
    "X_train = X_train.values\n",
    "\n",
    "#train the model\n",
    "w0, w = train_linear_regression(X_train, y_train)"
   ]
  },
  {
   "cell_type": "code",
   "execution_count": 177,
   "id": "ad62726b-ef5d-4cd1-91f6-cf9823c0a1ee",
   "metadata": {},
   "outputs": [],
   "source": [
    "#prepare validation df\n",
    "X_val = df_val.drop(['total_bedrooms', 'total_bedrooms_na_0'], axis=1)\n",
    "X_val = X_val.values\n",
    "\n",
    "#get predicitons for validation df\n",
    "y_pred = w0 + X_val.dot(w)"
   ]
  },
  {
   "cell_type": "code",
   "execution_count": 178,
   "id": "9f06be1b-e9f3-4fd0-abfb-53a8737067fd",
   "metadata": {},
   "outputs": [
    {
     "data": {
      "text/plain": [
       "0.34"
      ]
     },
     "execution_count": 178,
     "metadata": {},
     "output_type": "execute_result"
    }
   ],
   "source": [
    "round(rmse(y_val, y_pred),2)"
   ]
  },
  {
   "cell_type": "markdown",
   "id": "519c2f06-772c-4f68-aca6-0395a2eabb0a",
   "metadata": {},
   "source": [
    "### Train with 0 instead of NA"
   ]
  },
  {
   "cell_type": "code",
   "execution_count": 179,
   "id": "f49b43fa-331f-49c4-a008-99aff61c6ded",
   "metadata": {},
   "outputs": [],
   "source": [
    "X_train = df_train.drop(['total_bedrooms', 'total_bedrooms_na_mean'], axis=1)\n",
    "X_train = X_train.values\n",
    "\n",
    "#train the model\n",
    "w0, w = train_linear_regression(X_train, y_train)"
   ]
  },
  {
   "cell_type": "code",
   "execution_count": 180,
   "id": "8fea987a-4318-4370-b81b-718fd47a9fe0",
   "metadata": {},
   "outputs": [],
   "source": [
    "#prepare validation df\n",
    "X_val = df_val.drop(['total_bedrooms', 'total_bedrooms_na_mean'], axis=1)\n",
    "X_val = X_val.values\n",
    "\n",
    "#get predicitons for validation df\n",
    "y_pred = w0 + X_val.dot(w)"
   ]
  },
  {
   "cell_type": "code",
   "execution_count": 181,
   "id": "a8b67ae9-f974-466e-ac49-5ae5d6dd738d",
   "metadata": {},
   "outputs": [
    {
     "data": {
      "text/plain": [
       "0.34"
      ]
     },
     "execution_count": 181,
     "metadata": {},
     "output_type": "execute_result"
    }
   ],
   "source": [
    "round(rmse(y_val, y_pred),2)"
   ]
  },
  {
   "cell_type": "markdown",
   "id": "d4483b98-c758-4684-9d72-f140f48552cb",
   "metadata": {},
   "source": [
    "Q3: Both options are equally good for filling NA values"
   ]
  },
  {
   "cell_type": "code",
   "execution_count": 182,
   "id": "a9e9d387-84f3-46a1-8fee-731126b43a2b",
   "metadata": {},
   "outputs": [],
   "source": [
    "def prepare_df(df, random_seed=42):\n",
    "    #get indexes\n",
    "    n = len(df)\n",
    "    idx = np.arange(n)\n",
    "    #shuffle them\n",
    "    np.random.seed(random_seed)\n",
    "    np.random.shuffle(idx)\n",
    "    \n",
    "    #Split your data in train/val/test sets, with 60%/20%/20% distribution\n",
    "    n_train = int(n * 0.6)\n",
    "    n_val = int(n * 0.2)\n",
    "    n_test = n - n_val - n_train\n",
    "\n",
    "    df_train = ocean_inland.iloc[idx[:n_train],:].reset_index(drop=True)\n",
    "    df_val = ocean_inland.iloc[idx[n_train:n_train+n_val]].reset_index(drop=True)\n",
    "    df_test = ocean_inland.iloc[idx[n_train+n_val:]].reset_index(drop=True)\n",
    "\n",
    "    y_train = np.log1p(df_train.median_house_value.values)\n",
    "    y_val = np.log1p(df_val.median_house_value.values)\n",
    "    y_test = np.log1p(df_test.median_house_value.values)\n",
    "    \n",
    "    del df_train['median_house_value']\n",
    "    del df_val['median_house_value']\n",
    "    del df_test['median_house_value']\n",
    "\n",
    "    \n",
    "    df_train['total_bedrooms'] = df_train['total_bedrooms'].fillna(0)\n",
    "    df_val['total_bedrooms'] = df_val['total_bedrooms'].fillna(0)\n",
    "    df_test['total_bedrooms'] = df_test['total_bedrooms'].fillna(0)\n",
    "\n",
    "    return df_train, df_val, df_test, y_train, y_val, y_test"
   ]
  },
  {
   "cell_type": "markdown",
   "id": "3dfd5c60-a1ec-4554-948b-b133c81c9633",
   "metadata": {},
   "source": [
    "## Regularization"
   ]
  },
  {
   "cell_type": "code",
   "execution_count": 183,
   "id": "c81e99d7-35b2-4a83-8cb3-8109770ad1f6",
   "metadata": {},
   "outputs": [],
   "source": [
    "def train_linear_regression_reg(X, y, r=0.001):\n",
    "    ones = np.ones(X.shape[0])\n",
    "    X = np.column_stack([ones, X])\n",
    "\n",
    "    XTX = X.T.dot(X)\n",
    "    # add regularisation parameter so that columns become different\n",
    "    XTX = XTX + r * np.eye(XTX.shape[0])\n",
    "\n",
    "    XTX_inv = np.linalg.inv(XTX)\n",
    "    w_full = XTX_inv.dot(X.T).dot(y)\n",
    "    \n",
    "    return w_full[0], w_full[1:]"
   ]
  },
  {
   "cell_type": "code",
   "execution_count": 184,
   "id": "654d1f8f-f3d2-4daf-b5ba-180b41c2e640",
   "metadata": {},
   "outputs": [
    {
     "data": {
      "text/plain": [
       "0.34095384832345144"
      ]
     },
     "execution_count": 184,
     "metadata": {},
     "output_type": "execute_result"
    }
   ],
   "source": [
    "X_train = df_train.drop(['total_bedrooms', 'total_bedrooms_na_mean'], axis=1)\n",
    "X_train = X_train.values\n",
    "w0, w = train_linear_regression_reg(X_train, y_train, r=0.01)\n",
    "\n",
    "#prepare validation df\n",
    "X_val = df_val.drop(['total_bedrooms', 'total_bedrooms_na_mean'], axis=1)\n",
    "X_val = X_val.values\n",
    "\n",
    "y_pred = w0 + X_val.dot(w)\n",
    "rmse(y_val, y_pred)"
   ]
  },
  {
   "cell_type": "code",
   "execution_count": 185,
   "id": "dddf2332-2f35-494f-a943-c793542a7b43",
   "metadata": {},
   "outputs": [
    {
     "name": "stdout",
     "output_type": "stream",
     "text": [
      "Model for r = 0\n",
      "RMSE = 0.34\n",
      "\n",
      "Model for r = 1e-06\n",
      "RMSE = 0.34\n",
      "\n",
      "Model for r = 0.0001\n",
      "RMSE = 0.34\n",
      "\n",
      "Model for r = 0.001\n",
      "RMSE = 0.34\n",
      "\n",
      "Model for r = 0.01\n",
      "RMSE = 0.34\n",
      "\n",
      "Model for r = 0.1\n",
      "RMSE = 0.34\n",
      "\n",
      "Model for r = 1\n",
      "RMSE = 0.34\n",
      "\n",
      "Model for r = 5\n",
      "RMSE = 0.35\n",
      "\n",
      "Model for r = 10\n",
      "RMSE = 0.35\n",
      "\n"
     ]
    }
   ],
   "source": [
    "results_list = []\n",
    "\n",
    "for r in [0, 0.000001, 0.0001, 0.001, 0.01, 0.1, 1, 5, 10]:\n",
    "    print(f'Model for r = {r}')\n",
    "    \n",
    "    w0, w = train_linear_regression_reg(X_train, y_train, r=r)\n",
    "    y_pred = w0 + X_val.dot(w)\n",
    "    rmse_val = round(rmse(y_val, y_pred),2)\n",
    "    print(f'RMSE = {rmse_val}\\n')\n",
    "\n",
    "    result_dict = {\n",
    "                    'r': r,\n",
    "                    'rmse': rmse_val\n",
    "    }\n",
    "    \n",
    "    results_list.append(result_dict)"
   ]
  },
  {
   "cell_type": "code",
   "execution_count": 186,
   "id": "4514b049-b5f9-4db7-9c80-6f9d78971060",
   "metadata": {},
   "outputs": [],
   "source": [
    "results_df = pd.DataFrame(results_list)"
   ]
  },
  {
   "cell_type": "code",
   "execution_count": 187,
   "id": "d68f72ee-0dfa-4700-b44c-4b422c6b9dc3",
   "metadata": {},
   "outputs": [
    {
     "data": {
      "text/plain": [
       "Text(0.5, 0, 'Regularization parameter r')"
      ]
     },
     "execution_count": 187,
     "metadata": {},
     "output_type": "execute_result"
    },
    {
     "data": {
      "image/png": "[encoded data removed]",
      "text/plain": [
       "<Figure size 1000x600 with 1 Axes>"
      ]
     },
     "metadata": {},
     "output_type": "display_data"
    }
   ],
   "source": [
    "fig, ax = plt.subplots(1, figsize=(10,6))\n",
    "sns.lineplot(\n",
    "    data=results_df, \n",
    "    x=\"r\", y=\"rmse\",\n",
    "    marker=\"o\",\n",
    "    ax=ax\n",
    ")\n",
    "ax.set_xlabel(f\"Regularization parameter r\")"
   ]
  },
  {
   "cell_type": "markdown",
   "id": "7f8df781-0833-4b57-b5db-140c6afdad11",
   "metadata": {},
   "source": [
    "Q4: With this linear regression, the regularization parameter doesn't improve the RMSE, so we can remain it at 0"
   ]
  },
  {
   "cell_type": "markdown",
   "id": "96b83170-6e3e-4851-9b5d-0c06ad702cbc",
   "metadata": {},
   "source": [
    "## Trying different seeds"
   ]
  },
  {
   "cell_type": "markdown",
   "id": "1553f80f-cb41-48de-82a9-8749b6d45a64",
   "metadata": {},
   "source": [
    "To try different seeds, we need to wrap all our steps into the function"
   ]
  },
  {
   "cell_type": "code",
   "execution_count": 188,
   "id": "60326d6a-d455-407f-8094-1562e53164e3",
   "metadata": {},
   "outputs": [
    {
     "name": "stdout",
     "output_type": "stream",
     "text": [
      "Model for seed = 0\n",
      "RMSE = 0.34\n",
      "\n",
      "Model for seed = 1\n",
      "RMSE = 0.34\n",
      "\n",
      "Model for seed = 2\n",
      "RMSE = 0.34\n",
      "\n",
      "Model for seed = 3\n",
      "RMSE = 0.33\n",
      "\n",
      "Model for seed = 4\n",
      "RMSE = 0.34\n",
      "\n",
      "Model for seed = 5\n",
      "RMSE = 0.34\n",
      "\n",
      "Model for seed = 6\n",
      "RMSE = 0.34\n",
      "\n",
      "Model for seed = 7\n",
      "RMSE = 0.35\n",
      "\n",
      "Model for seed = 8\n",
      "RMSE = 0.35\n",
      "\n",
      "Model for seed = 9\n",
      "RMSE = 0.33\n",
      "\n"
     ]
    }
   ],
   "source": [
    "seeds_results_list = []\n",
    "\n",
    "for seed in [0, 1, 2, 3, 4, 5, 6, 7, 8, 9]:\n",
    "    df_train, df_val, df_test, y_train, y_val, y_test = prepare_df(ocean_inland, random_seed=seed)\n",
    "    \n",
    "    print(f'Model for seed = {seed}')\n",
    "    X_train = df_train.values\n",
    "    X_val = df_val.values\n",
    "    \n",
    "    w0, w = train_linear_regression(X_train, y_train)\n",
    "    y_pred = w0 + X_val.dot(w)\n",
    "    rmse_val = rmse(y_val, y_pred)\n",
    "    print(f'RMSE = {rmse_val:.2f}\\n')\n",
    "\n",
    "    result_dict = {\n",
    "                    'random_seed': seed,\n",
    "                    'rmse': rmse_val\n",
    "    }\n",
    "    \n",
    "    seeds_results_list.append(result_dict)"
   ]
  },
  {
   "cell_type": "code",
   "execution_count": 189,
   "id": "18b6485b-f6d1-4b41-8a82-379b83be9bde",
   "metadata": {},
   "outputs": [],
   "source": [
    "seed_results_df = pd.DataFrame(seeds_results_list)"
   ]
  },
  {
   "cell_type": "code",
   "execution_count": 190,
   "id": "f40994cf-35fc-4778-aca3-7f3fb3ef3d22",
   "metadata": {},
   "outputs": [
    {
     "data": {
      "text/plain": [
       "Text(0.5, 0, 'Random seed')"
      ]
     },
     "execution_count": 190,
     "metadata": {},
     "output_type": "execute_result"
    },
    {
     "data": {
      "image/png": "[encoded data removed]",
      "text/plain": [
       "<Figure size 1000x600 with 1 Axes>"
      ]
     },
     "metadata": {},
     "output_type": "display_data"
    }
   ],
   "source": [
    "fig, ax = plt.subplots(1, figsize=(10,6))\n",
    "sns.lineplot(\n",
    "    data=seed_results_df, \n",
    "    x=\"random_seed\", y=\"rmse\",\n",
    "    marker=\"o\",\n",
    "    ax=ax\n",
    ")\n",
    "ax.set_xlabel(f\"Random seed\")"
   ]
  },
  {
   "cell_type": "code",
   "execution_count": 191,
   "id": "c6adf48c-b6d2-419a-9ef3-71ffe4e18231",
   "metadata": {
    "scrolled": true
   },
   "outputs": [
    {
     "data": {
      "text/plain": [
       "0.006"
      ]
     },
     "execution_count": 191,
     "metadata": {},
     "output_type": "execute_result"
    }
   ],
   "source": [
    "round(np.std(seed_results_df['rmse'].values),3)"
   ]
  },
  {
   "cell_type": "markdown",
   "id": "8938e782-d193-40f5-bdea-a1ca32dfee3f",
   "metadata": {},
   "source": [
    "Q5: Standard deviation of RMSE for 10 different seeds is 0.006 (or 0.005 the closest)"
   ]
  },
  {
   "cell_type": "markdown",
   "id": "19579c01-87d5-4455-ac76-703cdc1abc44",
   "metadata": {},
   "source": [
    "## Final model"
   ]
  },
  {
   "cell_type": "code",
   "execution_count": 192,
   "id": "8e4bb858-7f26-48c9-b77f-b37f4942ae93",
   "metadata": {},
   "outputs": [],
   "source": [
    "df_train, df_val, df_test, y_train, y_val, y_test = prepare_df(ocean_inland, random_seed=9)"
   ]
  },
  {
   "cell_type": "code",
   "execution_count": 194,
   "id": "106066e5-2b50-486a-b45d-2370770003b7",
   "metadata": {},
   "outputs": [],
   "source": [
    "df_full_train = pd.concat([df_train, df_val])\n",
    "df_full_train = df_full_train.reset_index(drop=True)\n",
    "\n",
    "y_full_train = np.concatenate([y_train, y_val])"
   ]
  },
  {
   "cell_type": "code",
   "execution_count": 195,
   "id": "70dfcf6f-5251-43d6-b1a4-3d144549d04f",
   "metadata": {},
   "outputs": [
    {
     "name": "stdout",
     "output_type": "stream",
     "text": [
      "RMSE = 0.33\n",
      "\n"
     ]
    }
   ],
   "source": [
    "X_full_train = df_full_train.values\n",
    "X_test = df_test.values\n",
    "\n",
    "w0, w = train_linear_regression_reg(X_full_train, y_full_train, r=0.001)\n",
    "y_pred = w0 + X_test.dot(w)\n",
    "rmse_val = round(rmse(y_test, y_pred),2)\n",
    "print(f'RMSE = {rmse_val}\\n')"
   ]
  },
  {
   "cell_type": "markdown",
   "id": "c5d89ff7-49fa-4b17-a327-51f77427813e",
   "metadata": {},
   "source": [
    "Q6: RMSE on the test dataset is 0.33"
   ]
  }
 ],
 "metadata": {
  "kernelspec": {
   "display_name": "Python 3 (ipykernel)",
   "language": "python",
   "name": "python3"
  },
  "language_info": {
   "codemirror_mode": {
    "name": "ipython",
    "version": 3
   },
   "file_extension": ".py",
   "mimetype": "text/x-python",
   "name": "python",
   "nbconvert_exporter": "python",
   "pygments_lexer": "ipython3",
   "version": "3.8.6"
  }
 },
 "nbformat": 4,
 "nbformat_minor": 5
}
